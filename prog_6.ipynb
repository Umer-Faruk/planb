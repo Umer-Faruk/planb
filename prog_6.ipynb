{
 "cells": [
  {
   "cell_type": "code",
   "execution_count": 3,
   "metadata": {},
   "outputs": [],
   "source": [
    "import pandas as pd\n",
    "from sklearn import preprocessing\n",
    "import numpy as np\n",
    "from sklearn.preprocessing import MinMaxScaler\n",
    "import matplotlib.pyplot as plt\n",
    "import seaborn as sns\n",
    "from sklearn.model_selection import train_test_split\n",
    "\n",
    "df = pd.read_csv('CustomerData.csv')\n",
    "df = df.bfill()\n",
    "encoder = preprocessing.LabelEncoder()\n",
    "df[['category', 'purchase type ', 'gender']] = df[['category', 'purchase type ', 'gender']].apply(encoder.fit_transform)\n",
    "df.head()\n",
    "\n",
    "features = df[['age', 'gender', 'annual income (lakhs)']]\n",
    "target = df['purchase type ']\n",
    "x_train, x_test, y_train, y_test = train_test_split(features, target, random_state = 0, test_size = 0.3)\n"
   ]
  },
  {
   "cell_type": "code",
   "execution_count": 4,
   "metadata": {},
   "outputs": [
    {
     "data": {
      "text/plain": [
       "0.5"
      ]
     },
     "execution_count": 4,
     "metadata": {},
     "output_type": "execute_result"
    }
   ],
   "source": [
    "from sklearn.ensemble import BaggingClassifier\n",
    "\n",
    "bag = BaggingClassifier(random_state = 0\n",
    "                       )\n",
    "bag.fit(x_train, y_train)\n",
    "predicted = bag.predict(x_test)\n",
    "probability = bag.predict_proba(x_test)[:, 1]\n",
    "bag.score(x_test, y_test)\n"
   ]
  },
  {
   "cell_type": "code",
   "execution_count": 6,
   "metadata": {},
   "outputs": [
    {
     "name": "stdout",
     "output_type": "stream",
     "text": [
      "              precision    recall  f1-score   support\n",
      "\n",
      "           0       0.50      0.56      0.53         9\n",
      "           1       0.50      0.44      0.47         9\n",
      "\n",
      "    accuracy                           0.50        18\n",
      "   macro avg       0.50      0.50      0.50        18\n",
      "weighted avg       0.50      0.50      0.50        18\n",
      "\n",
      "\n",
      "Confusion matrix :\n",
      " [[5 4]\n",
      " [5 4]]\n",
      "\n",
      "Area under the curve:  0.5\n"
     ]
    },
    {
     "data": {
      "text/plain": [
       "Text(0, 0.5, 'tpr')"
      ]
     },
     "execution_count": 6,
     "metadata": {},
     "output_type": "execute_result"
    },
    {
     "data": {
      "image/png": "[encoded data removed]",
      "text/plain": [
       "<Figure size 432x288 with 1 Axes>"
      ]
     },
     "metadata": {
      "needs_background": "light"
     },
     "output_type": "display_data"
    }
   ],
   "source": [
    "from sklearn import metrics\n",
    "\n",
    "print(metrics.classification_report(y_test, predicted))\n",
    "print(\"\\nConfusion matrix :\\n\", metrics.confusion_matrix(y_test, predicted))\n",
    "print(\"\\nArea under the curve: \", metrics.roc_auc_score(y_test, predicted))\n",
    "fpr, tpr, thresholds = metrics.roc_curve(y_test, probability)\n",
    "plt.plot(fpr, tpr, color = 'orange')\n",
    "plt.plot([0,1], [0,1], linestyle = '--')\n",
    "plt.xlabel('fpr')\n",
    "plt.ylabel('tpr')"
   ]
  },
  {
   "cell_type": "code",
   "execution_count": null,
   "metadata": {},
   "outputs": [],
   "source": []
  }
 ],
 "metadata": {
  "kernelspec": {
   "display_name": "Python 3",
   "language": "python",
   "name": "python3"
  },
  "language_info": {
   "codemirror_mode": {
    "name": "ipython",
    "version": 3
   },
   "file_extension": ".py",
   "mimetype": "text/x-python",
   "name": "python",
   "nbconvert_exporter": "python",
   "pygments_lexer": "ipython3",
   "version": "3.6.9"
  }
 },
 "nbformat": 4,
 "nbformat_minor": 2
}
