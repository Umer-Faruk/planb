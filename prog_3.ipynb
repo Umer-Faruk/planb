{
 "cells": [
  {
   "cell_type": "code",
   "execution_count": 1,
   "metadata": {},
   "outputs": [
    {
     "name": "stdout",
     "output_type": "stream",
     "text": [
      "Rule :  ['tomato', 'bottleguard', 'beans'] Support : 0.19607843137254902 Confidence :  0.7692307692307693\n",
      "Rule :  ['tomato', 'beans', 'potato'] Support : 0.1568627450980392 Confidence :  0.7272727272727272\n",
      "Rule :  ['tomato', 'bottleguard', 'beans', 'potato'] Support : 0.09803921568627451 Confidence :  0.8333333333333334\n",
      "Rule :  ['tomato', 'onion', 'beans', 'potato'] Support : 0.09803921568627451 Confidence :  0.7142857142857142\n",
      "Rule :  ['onion', 'bottleguard', 'tomato', 'potato'] Support : 0.09803921568627451 Confidence :  0.7142857142857142\n",
      "Rule :  ['beans', 'tomato', 'onion', 'bottleguard', 'potato'] Support : 0.058823529411764705 Confidence :  0.75\n"
     ]
    }
   ],
   "source": [
    "import pandas as pd\n",
    "from sklearn import preprocessing\n",
    "import numpy as np\n",
    "from sklearn.preprocessing import MinMaxScaler\n",
    "import matplotlib.pyplot as plt\n",
    "import seaborn as sns\n",
    "df1 = pd.read_csv('association_analysis.csv')\n",
    "df1.head()\n",
    "df1.drop(['tid'], axis = 1, inplace = True)\n",
    "# !pip install apyori\n",
    "\n",
    "from apyori import apriori\n",
    "\n",
    "records = []\n",
    "for i in range(len(df1)):\n",
    "    record = []\n",
    "    for j in range(len(df1.columns)):\n",
    "        if df1.values[i, j]:\n",
    "            record.append(df1.columns[j])\n",
    "    records.append(record)\n",
    "    \n",
    "records[:3]\n",
    " \n",
    "min_sup = 0.03\n",
    "min_confidence = 0.7\n",
    "\n",
    "rules = apriori(records, min_support = min_sup, min_confidence = min_confidence)\n",
    "for rule in rules:\n",
    "    items = [i for i in rule[0]]\n",
    "    print(\"Rule : \",items, \"Support :\", rule[1], \"Confidence : \", rule[2][0][2])"
   ]
  },
  {
   "cell_type": "code",
   "execution_count": null,
   "metadata": {},
   "outputs": [],
   "source": []
  }
 ],
 "metadata": {
  "kernelspec": {
   "display_name": "Python 3",
   "language": "python",
   "name": "python3"
  },
  "language_info": {
   "codemirror_mode": {
    "name": "ipython",
    "version": 3
   },
   "file_extension": ".py",
   "mimetype": "text/x-python",
   "name": "python",
   "nbconvert_exporter": "python",
   "pygments_lexer": "ipython3",
   "version": "3.6.9"
  }
 },
 "nbformat": 4,
 "nbformat_minor": 2
}
