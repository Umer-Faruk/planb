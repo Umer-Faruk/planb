{
 "cells": [
  {
   "cell_type": "code",
   "execution_count": 1,
   "metadata": {},
   "outputs": [],
   "source": [
    "import pandas as pd\n",
    "from sklearn import preprocessing\n",
    "import numpy as np\n",
    "from sklearn.preprocessing import MinMaxScaler\n",
    "import matplotlib.pyplot as plt\n",
    "import seaborn as sns\n",
    "from sklearn.model_selection import train_test_split\n",
    "\n",
    "df = pd.read_csv('CustomerData.csv')\n",
    "df = df.bfill()\n",
    "encoder = preprocessing.LabelEncoder()\n",
    "df[['category', 'purchase type ', 'gender']] = df[['category', 'purchase type ', 'gender']].apply(encoder.fit_transform)\n",
    "df.head()\n",
    "\n",
    "features = df[['age', 'gender', 'annual income (lakhs)']]\n",
    "target = df['purchase type ']\n",
    "x_train, x_test, y_train, y_test = train_test_split(features, target, random_state = 0, test_size = 0.3)\n"
   ]
  },
  {
   "cell_type": "code",
   "execution_count": 2,
   "metadata": {
    "scrolled": false
   },
   "outputs": [
    {
     "name": "stdout",
     "output_type": "stream",
     "text": [
      "Cluster centers\n",
      " [[ 0.64285714 55.14285714  7.21428571]\n",
      " [ 0.69230769 18.76923077  6.38461538]\n",
      " [ 0.88888889 31.11111111 13.        ]\n",
      " [ 1.          5.16666667  8.5       ]\n",
      " [ 0.33333333 41.          5.66666667]]\n"
     ]
    },
    {
     "name": "stderr",
     "output_type": "stream",
     "text": [
      "/home/umer/.local/lib/python3.6/site-packages/ipykernel_launcher.py:8: SettingWithCopyWarning: \n",
      "A value is trying to be set on a copy of a slice from a DataFrame.\n",
      "Try using .loc[row_indexer,col_indexer] = value instead\n",
      "\n",
      "See the caveats in the documentation: https://pandas.pydata.org/pandas-docs/stable/user_guide/indexing.html#returning-a-view-versus-a-copy\n",
      "  \n"
     ]
    }
   ],
   "source": [
    "from sklearn.cluster import KMeans\n",
    "\n",
    "dataframe = df[['gender', 'age', 'category']]\n",
    "\n",
    "kmeans = KMeans(n_clusters = 5, random_state = 0)\n",
    "kmeans.fit_predict(dataframe)\n",
    "print(\"Cluster centers\\n\", kmeans.cluster_centers_)\n",
    "dataframe['cluster'] = kmeans.labels_"
   ]
  },
  {
   "cell_type": "code",
   "execution_count": null,
   "metadata": {},
   "outputs": [],
   "source": []
  }
 ],
 "metadata": {
  "kernelspec": {
   "display_name": "Python 3",
   "language": "python",
   "name": "python3"
  },
  "language_info": {
   "codemirror_mode": {
    "name": "ipython",
    "version": 3
   },
   "file_extension": ".py",
   "mimetype": "text/x-python",
   "name": "python",
   "nbconvert_exporter": "python",
   "pygments_lexer": "ipython3",
   "version": "3.6.9"
  }
 },
 "nbformat": 4,
 "nbformat_minor": 2
}
